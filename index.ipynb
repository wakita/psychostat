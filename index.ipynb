{
 "cells": [
  {
   "cell_type": "markdown",
   "id": "sought-diameter",
   "metadata": {},
   "source": [
    "# 心理統計について勉強していきましょう。\n",
    "\n",
    "- 教科書: 山田剛史、村井純一郎著[よくわかる心理統計](https://www.amazon.co.jp/dp/4623039994/)ミネルヴァ書房"
   ]
  },
  {
   "cell_type": "markdown",
   "id": "alert-consent",
   "metadata": {},
   "source": [
    "- 2021-06-09: [95%信頼区間 - 2021年度心理学統計法2 第6回 04](psycostat-06-04.ipynb)"
   ]
  },
  {
   "cell_type": "markdown",
   "id": "hairy-specialist",
   "metadata": {},
   "source": [
    "[![Binder](https://mybinder.org/badge_logo.svg)](https://mybinder.org/v2/gh/wakita/psycostat.git/HEAD?filepath=psycostat-06-04.ipynb)"
   ]
  },
  {
   "cell_type": "code",
   "execution_count": null,
   "id": "invisible-gothic",
   "metadata": {},
   "outputs": [],
   "source": []
  }
 ],
 "metadata": {
  "kernelspec": {
   "display_name": "Python 3",
   "language": "python",
   "name": "python3"
  },
  "language_info": {
   "codemirror_mode": {
    "name": "ipython",
    "version": 3
   },
   "file_extension": ".py",
   "mimetype": "text/x-python",
   "name": "python",
   "nbconvert_exporter": "python",
   "pygments_lexer": "ipython3",
   "version": "3.9.5"
  }
 },
 "nbformat": 4,
 "nbformat_minor": 5
}
