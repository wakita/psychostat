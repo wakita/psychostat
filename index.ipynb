{
 "cells": [
  {
   "cell_type": "markdown",
   "id": "commercial-savannah",
   "metadata": {},
   "source": [
    "# 心理統計について勉強していきましょう。\n",
    "\n",
    "- 教科書: 山田剛史、村井純一郎著[よくわかる心理統計](https://www.amazon.co.jp/dp/4623039994/)ミネルヴァ書房\n",
    "- [ノートブック](https://mybinder.org/v2/gh/wakita/binder-vis/main?urlpath=git-pull%3Frepo%3Dhttps%253A%252F%252Fgithub.com%252Fwakita%252Fpsycostat%26urlpath%3Dlab%252Ftree%252Fpsycostat%252Findex.ipynb%26branch%3Dmain)\n",
    "\n",
    "---"
   ]
  },
  {
   "cell_type": "markdown",
   "id": "opened-tongue",
   "metadata": {},
   "source": [
    "- 2021-06-10: [95%信頼区間 - 2021年度心理学統計法2 第6回 04](2021-06-10.ipynb)"
   ]
  },
  {
   "cell_type": "markdown",
   "id": "outdoor-dutch",
   "metadata": {},
   "source": [
    "[![Binder](https://mybinder.org/badge_logo.svg)](https://mybinder.org/v2/gh/wakita/psycostat.git/HEAD?filepath=psycostat-06-04.ipynb)"
   ]
  },
  {
   "cell_type": "code",
   "execution_count": 123,
   "id": "legislative-darwin",
   "metadata": {},
   "outputs": [
    {
     "name": "stdout",
     "output_type": "stream",
     "text": [
      "https://mybinder.org/v2/gh/wakita/binder-vis/main?urlpath=git-pull%3Frepo%3Dhttps%253A%252F%252Fgithub.com%252Fwakita%252Fpsychostat%26urlpath%3Dlab%252Ftree%252Fpsychostat%252Findex.ipynb%26branch%3Dmain\n"
     ]
    }
   ],
   "source": [
    "from urllib.parse import urlencode, urlparse, parse_qs, unquote\n",
    "\n",
    "def generate(user, repo, path):\n",
    "    content_spec = [\n",
    "        ('repo', f'https://github.com/{user}/{repo}'),\n",
    "        ('urlpath', [ f'lab/tree/{repo}/{path}' ]),\n",
    "        ('branch', [ 'main' ]) ]\n",
    "    binder_spec = [ ('urlpath', f'git-pull?{urlencode(content_spec, doseq=True)}') ]\n",
    "    return f'https://mybinder.org/v2/gh/wakita/binder-vis/main?{urlencode(binder_spec)}'\n",
    "\n",
    "print(generate('wakita', 'psychostat', 'index.ipynb'))"
   ]
  },
  {
   "cell_type": "markdown",
   "id": "removable-husband",
   "metadata": {},
   "source": [
    "https://jupyterhub.github.io/nbgitpuller/link?tab=binder"
   ]
  },
  {
   "cell_type": "code",
   "execution_count": 127,
   "id": "subjective-rider",
   "metadata": {},
   "outputs": [
    {
     "data": {
      "text/plain": [
       "'2Fpsychost'"
      ]
     },
     "execution_count": 127,
     "metadata": {},
     "output_type": "execute_result"
    }
   ],
   "source": [
    "gen = generate('wakita', 'psychostat', 'index.ipynb')\n",
    "ans = 'https://mybinder.org/v2/gh/wakita/binder-vis/main?urlpath=git-pull%3Frepo%3Dhttps%253A%252F%252Fgithub.com%252Fwakita%252Fpsychostat%26urlpath%3Dlab%252Ftree%252Fpsychostat%252Findex.ipynb%26branch%3Dmain'\n",
    "\n",
    "import difflib\n",
    "\n",
    "for i, s in enumerate(difflib.ndiff(gen, ans)):\n",
    "    if s[0] == ' ': continue\n",
    "    elif s[0] == '-': print(f'Delete {s[-1]} from position {i}.')\n",
    "    elif s[0] == '+': print(f'Add {s[-1]} to position {i}.')\n",
    "\n",
    "        \n",
    "gen[120:130]"
   ]
  },
  {
   "cell_type": "code",
   "execution_count": null,
   "id": "positive-logistics",
   "metadata": {},
   "outputs": [],
   "source": []
  }
 ],
 "metadata": {
  "kernelspec": {
   "display_name": "Python 3",
   "language": "python",
   "name": "python3"
  },
  "language_info": {
   "codemirror_mode": {
    "name": "ipython",
    "version": 3
   },
   "file_extension": ".py",
   "mimetype": "text/x-python",
   "name": "python",
   "nbconvert_exporter": "python",
   "pygments_lexer": "ipython3",
   "version": "3.9.5"
  }
 },
 "nbformat": 4,
 "nbformat_minor": 5
}
